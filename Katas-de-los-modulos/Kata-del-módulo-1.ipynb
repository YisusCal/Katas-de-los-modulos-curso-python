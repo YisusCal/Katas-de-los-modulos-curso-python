{
 "cells": [
  {
   "cell_type": "code",
   "execution_count": null,
   "metadata": {},
   "outputs": [],
   "source": []
  },
  {
   "cell_type": "markdown",
   "metadata": {},
   "source": [
    "# Kata del modulo 1"
   ]
  },
  {
   "cell_type": "markdown",
   "metadata": {},
   "source": [
    "Oficial superior> \"¿Cadete?\"\n",
    "\n",
    "Usted > \"¿Sí, señora?\"\n",
    "\n",
    "Oficial superior> \"¿Puedes construir un programa que me muestre la fecha? La computadora del barco no venía con mucho en términos de programas de utilidad, por lo que necesitamos crear los que necesitamos. ¿Puedo confiar en ti con esto?\"\n",
    "\n",
    "Usted > \"Considéralo hecho\".\n",
    "\n",
    "Oficial superior> \"Excelente\"."
   ]
  },
  {
   "cell_type": "markdown",
   "metadata": {},
   "source": [
    "## Tu primer programa\n",
    "Para crear este programa, deberás utilizar los conceptos que aprendiste en el último módulo. Usarás Jupyter Notebook en este ejercicio, que es una combinación de texto y código con la que puede interactuar. Finaliza el código siguiente para que el resultado muestre la fecha de hoy."
   ]
  },
  {
   "cell_type": "code",
   "execution_count": 3,
   "metadata": {},
   "outputs": [
    {
     "name": "stdout",
     "output_type": "stream",
     "text": [
      "Today's date is: 2022-02-06\n"
     ]
    }
   ],
   "source": [
    "from datetime import date\n",
    "\n",
    "print(\"Today's date is: \" + str(date.today()))"
   ]
  },
  {
   "cell_type": "markdown",
   "metadata": {},
   "source": [
    "## Construir un convertidor de unidades\n",
    "El oficial superior> \"Necesito una cosa más: un programa de conversión entre parsecs y años luz. Tener un programa de este tipo podría ser realmente útil en el puente para trazar nuestro curso\".\n",
    "\n",
    "Tú> \"¡Lo haré!\"\n",
    "[!TIP] 1 parsec es 3.26156 años luz. Utiliza el operador de multiplicación."
   ]
  },
  {
   "cell_type": "code",
   "execution_count": 5,
   "metadata": {},
   "outputs": [
    {
     "name": "stdout",
     "output_type": "stream",
     "text": [
      "11 parsec, is 35.877159999999996 lightyears\n"
     ]
    }
   ],
   "source": [
    "parsec = 11\n",
    "lightyears = parsec * 3.26156\n",
    "print(str(parsec) + \" parsec, is \" + str(lightyears) + \" lightyears\")"
   ]
  },
  {
   "cell_type": "markdown",
   "metadata": {},
   "source": [
    "### @autor Jesus Calderon Guadarrama"
   ]
  }
 ],
 "metadata": {
  "interpreter": {
   "hash": "2be5faf79681da6f2a61fdfdd5405d65d042280f7fba6178067603e3a2925119"
  },
  "kernelspec": {
   "display_name": "Python 3.10.2 64-bit",
   "language": "python",
   "name": "python3"
  },
  "language_info": {
   "codemirror_mode": {
    "name": "ipython",
    "version": 3
   },
   "file_extension": ".py",
   "mimetype": "text/x-python",
   "name": "python",
   "nbconvert_exporter": "python",
   "pygments_lexer": "ipython3",
   "version": "3.10.2"
  },
  "orig_nbformat": 4
 },
 "nbformat": 4,
 "nbformat_minor": 2
}
